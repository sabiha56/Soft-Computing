{
  "nbformat": 4,
  "nbformat_minor": 0,
  "metadata": {
    "colab": {
      "name": "170104051_Assignment3.ipynb",
      "provenance": [],
      "collapsed_sections": []
    },
    "kernelspec": {
      "name": "python3",
      "display_name": "Python 3"
    },
    "language_info": {
      "name": "python"
    }
  },
  "cells": [
    {
      "cell_type": "code",
      "metadata": {
        "colab": {
          "base_uri": "https://localhost:8080/"
        },
        "id": "ftz7rudzvHIW",
        "outputId": "a33cfe07-0181-4a6f-a5ce-9f7b06e425cd"
      },
      "source": [
        "# The dataset => https://drive.google.com/file/d/https://drive.google.com/file/d/1OENIFKelCgGdLVUbpSEX7uJA9mK35CQm/view?usp=sharing\n",
        "!gdown --id 1OENIFKelCgGdLVUbpSEX7uJA9mK35CQm"
      ],
      "execution_count": null,
      "outputs": [
        {
          "output_type": "stream",
          "name": "stdout",
          "text": [
            "Downloading...\n",
            "From: https://drive.google.com/uc?id=1OENIFKelCgGdLVUbpSEX7uJA9mK35CQm\n",
            "To: /content/Dataset 1.csv\n",
            "\r  0% 0.00/999k [00:00<?, ?B/s]\r100% 999k/999k [00:00<00:00, 57.9MB/s]\n"
          ]
        }
      ]
    },
    {
      "cell_type": "code",
      "metadata": {
        "id": "NuhzVOFExlAC"
      },
      "source": [
        ""
      ],
      "execution_count": null,
      "outputs": []
    },
    {
      "cell_type": "code",
      "metadata": {
        "id": "C7RxCMuHNDlx"
      },
      "source": [
        "import numpy as np\n",
        "import pandas as pd\n",
        "import seaborn as sns\n",
        "import tensorflow as tf\n",
        "import matplotlib.pyplot as plt\n",
        "\n",
        "from keras.preprocessing.text import Tokenizer\n",
        "from keras.preprocessing.sequence import pad_sequences\n",
        "from keras.models import Sequential\n",
        "from keras import layers\n",
        "from keras import backend as K\n",
        "from keras.utils.vis_utils import plot_model\n",
        "\n",
        "from sklearn.metrics import accuracy_score\n",
        "from sklearn.metrics import precision_score\n",
        "from sklearn.metrics import recall_score\n",
        "from sklearn.metrics import f1_score\n",
        "from sklearn.metrics import confusion_matrix"
      ],
      "execution_count": null,
      "outputs": []
    },
    {
      "cell_type": "code",
      "metadata": {
        "colab": {
          "base_uri": "https://localhost:8080/",
          "height": 419
        },
        "id": "Qy1qO3NsOYcp",
        "outputId": "4890feb6-385a-4df7-95a9-2d9fb1be5ebe"
      },
      "source": [
        "data = pd.read_csv('/content/Dataset 1.csv', engine = 'python')\n",
        "\n",
        "data"
      ],
      "execution_count": null,
      "outputs": [
        {
          "output_type": "execute_result",
          "data": {
            "text/html": [
              "<div>\n",
              "<style scoped>\n",
              "    .dataframe tbody tr th:only-of-type {\n",
              "        vertical-align: middle;\n",
              "    }\n",
              "\n",
              "    .dataframe tbody tr th {\n",
              "        vertical-align: top;\n",
              "    }\n",
              "\n",
              "    .dataframe thead th {\n",
              "        text-align: right;\n",
              "    }\n",
              "</style>\n",
              "<table border=\"1\" class=\"dataframe\">\n",
              "  <thead>\n",
              "    <tr style=\"text-align: right;\">\n",
              "      <th></th>\n",
              "      <th>message</th>\n",
              "      <th>label</th>\n",
              "    </tr>\n",
              "  </thead>\n",
              "  <tbody>\n",
              "    <tr>\n",
              "      <th>0</th>\n",
              "      <td>just had a real good moment. i missssssssss hi...</td>\n",
              "      <td>0</td>\n",
              "    </tr>\n",
              "    <tr>\n",
              "      <th>1</th>\n",
              "      <td>is reading manga  http://plurk.com/p/mzp1e</td>\n",
              "      <td>0</td>\n",
              "    </tr>\n",
              "    <tr>\n",
              "      <th>2</th>\n",
              "      <td>@comeagainjen http://twitpic.com/2y2lx - http:...</td>\n",
              "      <td>0</td>\n",
              "    </tr>\n",
              "    <tr>\n",
              "      <th>3</th>\n",
              "      <td>@lapcat Need to send 'em to my accountant tomo...</td>\n",
              "      <td>0</td>\n",
              "    </tr>\n",
              "    <tr>\n",
              "      <th>4</th>\n",
              "      <td>ADD ME ON MYSPACE!!!  myspace.com/LookThunder</td>\n",
              "      <td>0</td>\n",
              "    </tr>\n",
              "    <tr>\n",
              "      <th>...</th>\n",
              "      <td>...</td>\n",
              "      <td>...</td>\n",
              "    </tr>\n",
              "    <tr>\n",
              "      <th>10309</th>\n",
              "      <td>No Depression by G Herbo is my mood from now o...</td>\n",
              "      <td>1</td>\n",
              "    </tr>\n",
              "    <tr>\n",
              "      <th>10310</th>\n",
              "      <td>What do you do when depression succumbs the br...</td>\n",
              "      <td>1</td>\n",
              "    </tr>\n",
              "    <tr>\n",
              "      <th>10311</th>\n",
              "      <td>Ketamine Nasal Spray Shows Promise Against Dep...</td>\n",
              "      <td>1</td>\n",
              "    </tr>\n",
              "    <tr>\n",
              "      <th>10312</th>\n",
              "      <td>dont mistake a bad day with depression! everyo...</td>\n",
              "      <td>1</td>\n",
              "    </tr>\n",
              "    <tr>\n",
              "      <th>10313</th>\n",
              "      <td>0</td>\n",
              "      <td>1</td>\n",
              "    </tr>\n",
              "  </tbody>\n",
              "</table>\n",
              "<p>10314 rows × 2 columns</p>\n",
              "</div>"
            ],
            "text/plain": [
              "                                                 message  label\n",
              "0      just had a real good moment. i missssssssss hi...      0\n",
              "1             is reading manga  http://plurk.com/p/mzp1e      0\n",
              "2      @comeagainjen http://twitpic.com/2y2lx - http:...      0\n",
              "3      @lapcat Need to send 'em to my accountant tomo...      0\n",
              "4          ADD ME ON MYSPACE!!!  myspace.com/LookThunder      0\n",
              "...                                                  ...    ...\n",
              "10309  No Depression by G Herbo is my mood from now o...      1\n",
              "10310  What do you do when depression succumbs the br...      1\n",
              "10311  Ketamine Nasal Spray Shows Promise Against Dep...      1\n",
              "10312  dont mistake a bad day with depression! everyo...      1\n",
              "10313                                                  0      1\n",
              "\n",
              "[10314 rows x 2 columns]"
            ]
          },
          "metadata": {},
          "execution_count": 6
        }
      ]
    },
    {
      "cell_type": "code",
      "metadata": {
        "colab": {
          "base_uri": "https://localhost:8080/",
          "height": 470
        },
        "id": "gAT9svnKrMI9",
        "outputId": "4eaca27a-785a-4cba-ecea-f5c4356e093d"
      },
      "source": [
        "data = data.sample(frac = 1., random_state = 14).reset_index(drop = True)\n",
        "\n",
        "print(data['label'].value_counts(0))\n",
        "data"
      ],
      "execution_count": null,
      "outputs": [
        {
          "output_type": "stream",
          "name": "stdout",
          "text": [
            "0    8000\n",
            "1    2314\n",
            "Name: label, dtype: int64\n"
          ]
        },
        {
          "output_type": "execute_result",
          "data": {
            "text/html": [
              "<div>\n",
              "<style scoped>\n",
              "    .dataframe tbody tr th:only-of-type {\n",
              "        vertical-align: middle;\n",
              "    }\n",
              "\n",
              "    .dataframe tbody tr th {\n",
              "        vertical-align: top;\n",
              "    }\n",
              "\n",
              "    .dataframe thead th {\n",
              "        text-align: right;\n",
              "    }\n",
              "</style>\n",
              "<table border=\"1\" class=\"dataframe\">\n",
              "  <thead>\n",
              "    <tr style=\"text-align: right;\">\n",
              "      <th></th>\n",
              "      <th>message</th>\n",
              "      <th>label</th>\n",
              "    </tr>\n",
              "  </thead>\n",
              "  <tbody>\n",
              "    <tr>\n",
              "      <th>0</th>\n",
              "      <td>Just got done getting ready. ZOMG, ignorance i...</td>\n",
              "      <td>0</td>\n",
              "    </tr>\n",
              "    <tr>\n",
              "      <th>1</th>\n",
              "      <td>i let my depression slow down my work ethic so...</td>\n",
              "      <td>1</td>\n",
              "    </tr>\n",
              "    <tr>\n",
              "      <th>2</th>\n",
              "      <td>@Beautyinblknwht u mite need to check into reh...</td>\n",
              "      <td>0</td>\n",
              "    </tr>\n",
              "    <tr>\n",
              "      <th>3</th>\n",
              "      <td>I got a new brand Bible !! Thanks family</td>\n",
              "      <td>0</td>\n",
              "    </tr>\n",
              "    <tr>\n",
              "      <th>4</th>\n",
              "      <td>@LixMgx : as someone who has also been single/...</td>\n",
              "      <td>1</td>\n",
              "    </tr>\n",
              "    <tr>\n",
              "      <th>...</th>\n",
              "      <td>...</td>\n",
              "      <td>...</td>\n",
              "    </tr>\n",
              "    <tr>\n",
              "      <th>10309</th>\n",
              "      <td>@undagroundmilli That's pretty cool!</td>\n",
              "      <td>0</td>\n",
              "    </tr>\n",
              "    <tr>\n",
              "      <th>10310</th>\n",
              "      <td>@JoyAndLife Thank you so much for #ff and have...</td>\n",
              "      <td>0</td>\n",
              "    </tr>\n",
              "    <tr>\n",
              "      <th>10311</th>\n",
              "      <td>you become a habbit, the more I consume the mo...</td>\n",
              "      <td>0</td>\n",
              "    </tr>\n",
              "    <tr>\n",
              "      <th>10312</th>\n",
              "      <td>@pg99 you get bored of that party yet?</td>\n",
              "      <td>0</td>\n",
              "    </tr>\n",
              "    <tr>\n",
              "      <th>10313</th>\n",
              "      <td>Always a fun time with the ILYC'ers! I love em...</td>\n",
              "      <td>0</td>\n",
              "    </tr>\n",
              "  </tbody>\n",
              "</table>\n",
              "<p>10314 rows × 2 columns</p>\n",
              "</div>"
            ],
            "text/plain": [
              "                                                 message  label\n",
              "0      Just got done getting ready. ZOMG, ignorance i...      0\n",
              "1      i let my depression slow down my work ethic so...      1\n",
              "2      @Beautyinblknwht u mite need to check into reh...      0\n",
              "3              I got a new brand Bible !! Thanks family       0\n",
              "4      @LixMgx : as someone who has also been single/...      1\n",
              "...                                                  ...    ...\n",
              "10309              @undagroundmilli That's pretty cool!       0\n",
              "10310  @JoyAndLife Thank you so much for #ff and have...      0\n",
              "10311  you become a habbit, the more I consume the mo...      0\n",
              "10312            @pg99 you get bored of that party yet?       0\n",
              "10313  Always a fun time with the ILYC'ers! I love em...      0\n",
              "\n",
              "[10314 rows x 2 columns]"
            ]
          },
          "metadata": {},
          "execution_count": 11
        }
      ]
    },
    {
      "cell_type": "code",
      "metadata": {
        "id": "vXk1PKKmPuNI"
      },
      "source": [
        "EPOCH = 10\n",
        "\n",
        "split_val = int(0.2 * data.shape[0])\n",
        "\n",
        "dataTest = data.iloc[-split_val :]\n",
        "dataVal = data.iloc[- 2 * split_val : -split_val]\n",
        "dataTrain = data.iloc[: - 2 * split_val]"
      ],
      "execution_count": null,
      "outputs": []
    },
    {
      "cell_type": "code",
      "metadata": {
        "colab": {
          "base_uri": "https://localhost:8080/",
          "height": 470
        },
        "id": "aMhe-A-lr4fH",
        "outputId": "81888581-ea77-4afd-9083-a3bced6d6a2d"
      },
      "source": [
        "print(dataTrain['label'].value_counts())\n",
        "\n",
        "dataTrain"
      ],
      "execution_count": null,
      "outputs": [
        {
          "output_type": "stream",
          "name": "stdout",
          "text": [
            "0    4781\n",
            "1    1409\n",
            "Name: label, dtype: int64\n"
          ]
        },
        {
          "output_type": "execute_result",
          "data": {
            "text/html": [
              "<div>\n",
              "<style scoped>\n",
              "    .dataframe tbody tr th:only-of-type {\n",
              "        vertical-align: middle;\n",
              "    }\n",
              "\n",
              "    .dataframe tbody tr th {\n",
              "        vertical-align: top;\n",
              "    }\n",
              "\n",
              "    .dataframe thead th {\n",
              "        text-align: right;\n",
              "    }\n",
              "</style>\n",
              "<table border=\"1\" class=\"dataframe\">\n",
              "  <thead>\n",
              "    <tr style=\"text-align: right;\">\n",
              "      <th></th>\n",
              "      <th>message</th>\n",
              "      <th>label</th>\n",
              "    </tr>\n",
              "  </thead>\n",
              "  <tbody>\n",
              "    <tr>\n",
              "      <th>0</th>\n",
              "      <td>Just got done getting ready. ZOMG, ignorance i...</td>\n",
              "      <td>0</td>\n",
              "    </tr>\n",
              "    <tr>\n",
              "      <th>1</th>\n",
              "      <td>i let my depression slow down my work ethic so...</td>\n",
              "      <td>1</td>\n",
              "    </tr>\n",
              "    <tr>\n",
              "      <th>2</th>\n",
              "      <td>@Beautyinblknwht u mite need to check into reh...</td>\n",
              "      <td>0</td>\n",
              "    </tr>\n",
              "    <tr>\n",
              "      <th>3</th>\n",
              "      <td>I got a new brand Bible !! Thanks family</td>\n",
              "      <td>0</td>\n",
              "    </tr>\n",
              "    <tr>\n",
              "      <th>4</th>\n",
              "      <td>@LixMgx : as someone who has also been single/...</td>\n",
              "      <td>1</td>\n",
              "    </tr>\n",
              "    <tr>\n",
              "      <th>...</th>\n",
              "      <td>...</td>\n",
              "      <td>...</td>\n",
              "    </tr>\n",
              "    <tr>\n",
              "      <th>6185</th>\n",
              "      <td>i've got &amp;quot;how do you sleep&amp;quot; stuck on...</td>\n",
              "      <td>0</td>\n",
              "    </tr>\n",
              "    <tr>\n",
              "      <th>6186</th>\n",
              "      <td>Happy mothers day tu all moms out there  !!</td>\n",
              "      <td>0</td>\n",
              "    </tr>\n",
              "    <tr>\n",
              "      <th>6187</th>\n",
              "      <td>So,\" I just saw somebody comment on a post abo...</td>\n",
              "      <td>1</td>\n",
              "    </tr>\n",
              "    <tr>\n",
              "      <th>6188</th>\n",
              "      <td>Happy late morning (my time) everyone!</td>\n",
              "      <td>0</td>\n",
              "    </tr>\n",
              "    <tr>\n",
              "      <th>6189</th>\n",
              "      <td>in a foursome with anxiety, stress and depression</td>\n",
              "      <td>1</td>\n",
              "    </tr>\n",
              "  </tbody>\n",
              "</table>\n",
              "<p>6190 rows × 2 columns</p>\n",
              "</div>"
            ],
            "text/plain": [
              "                                                message  label\n",
              "0     Just got done getting ready. ZOMG, ignorance i...      0\n",
              "1     i let my depression slow down my work ethic so...      1\n",
              "2     @Beautyinblknwht u mite need to check into reh...      0\n",
              "3             I got a new brand Bible !! Thanks family       0\n",
              "4     @LixMgx : as someone who has also been single/...      1\n",
              "...                                                 ...    ...\n",
              "6185  i've got &quot;how do you sleep&quot; stuck on...      0\n",
              "6186        Happy mothers day tu all moms out there  !!      0\n",
              "6187  So,\" I just saw somebody comment on a post abo...      1\n",
              "6188            Happy late morning (my time) everyone!       0\n",
              "6189  in a foursome with anxiety, stress and depression      1\n",
              "\n",
              "[6190 rows x 2 columns]"
            ]
          },
          "metadata": {},
          "execution_count": 14
        }
      ]
    },
    {
      "cell_type": "code",
      "metadata": {
        "colab": {
          "base_uri": "https://localhost:8080/",
          "height": 470
        },
        "id": "l2tTMKOsr4X0",
        "outputId": "70f006bd-721f-4aee-98ef-8c7b914f3a21"
      },
      "source": [
        "print(dataVal['label'].value_counts())\n",
        "\n",
        "dataVal"
      ],
      "execution_count": null,
      "outputs": [
        {
          "output_type": "stream",
          "name": "stdout",
          "text": [
            "0    1612\n",
            "1     450\n",
            "Name: label, dtype: int64\n"
          ]
        },
        {
          "output_type": "execute_result",
          "data": {
            "text/html": [
              "<div>\n",
              "<style scoped>\n",
              "    .dataframe tbody tr th:only-of-type {\n",
              "        vertical-align: middle;\n",
              "    }\n",
              "\n",
              "    .dataframe tbody tr th {\n",
              "        vertical-align: top;\n",
              "    }\n",
              "\n",
              "    .dataframe thead th {\n",
              "        text-align: right;\n",
              "    }\n",
              "</style>\n",
              "<table border=\"1\" class=\"dataframe\">\n",
              "  <thead>\n",
              "    <tr style=\"text-align: right;\">\n",
              "      <th></th>\n",
              "      <th>message</th>\n",
              "      <th>label</th>\n",
              "    </tr>\n",
              "  </thead>\n",
              "  <tbody>\n",
              "    <tr>\n",
              "      <th>6190</th>\n",
              "      <td>@carobuckman Have fun!!!</td>\n",
              "      <td>0</td>\n",
              "    </tr>\n",
              "    <tr>\n",
              "      <th>6191</th>\n",
              "      <td>I. Cannot. Stand. Depression. I. Just. Want. T...</td>\n",
              "      <td>1</td>\n",
              "    </tr>\n",
              "    <tr>\n",
              "      <th>6192</th>\n",
              "      <td>Another week of record sales at Fon.  I love t...</td>\n",
              "      <td>0</td>\n",
              "    </tr>\n",
              "    <tr>\n",
              "      <th>6193</th>\n",
              "      <td>What's new in digital mkt?</td>\n",
              "      <td>0</td>\n",
              "    </tr>\n",
              "    <tr>\n",
              "      <th>6194</th>\n",
              "      <td>4 shows / speaking engagements in the next 3 d...</td>\n",
              "      <td>0</td>\n",
              "    </tr>\n",
              "    <tr>\n",
              "      <th>...</th>\n",
              "      <td>...</td>\n",
              "      <td>...</td>\n",
              "    </tr>\n",
              "    <tr>\n",
              "      <th>8247</th>\n",
              "      <td>@NettyP dang...where do u work? Do they have a...</td>\n",
              "      <td>0</td>\n",
              "    </tr>\n",
              "    <tr>\n",
              "      <th>8248</th>\n",
              "      <td>@mojoguzzi I was drinking cognac yesterday aft...</td>\n",
              "      <td>0</td>\n",
              "    </tr>\n",
              "    <tr>\n",
              "      <th>8249</th>\n",
              "      <td>if you follow me I follow you</td>\n",
              "      <td>0</td>\n",
              "    </tr>\n",
              "    <tr>\n",
              "      <th>8250</th>\n",
              "      <td>SIP works in Flat, Volatile,  Bullish , Bearis...</td>\n",
              "      <td>1</td>\n",
              "    </tr>\n",
              "    <tr>\n",
              "      <th>8251</th>\n",
              "      <td>I'm in love with contemplating about the press...</td>\n",
              "      <td>1</td>\n",
              "    </tr>\n",
              "  </tbody>\n",
              "</table>\n",
              "<p>2062 rows × 2 columns</p>\n",
              "</div>"
            ],
            "text/plain": [
              "                                                message  label\n",
              "6190                          @carobuckman Have fun!!!       0\n",
              "6191  I. Cannot. Stand. Depression. I. Just. Want. T...      1\n",
              "6192  Another week of record sales at Fon.  I love t...      0\n",
              "6193                        What's new in digital mkt?       0\n",
              "6194  4 shows / speaking engagements in the next 3 d...      0\n",
              "...                                                 ...    ...\n",
              "8247  @NettyP dang...where do u work? Do they have a...      0\n",
              "8248  @mojoguzzi I was drinking cognac yesterday aft...      0\n",
              "8249                     if you follow me I follow you       0\n",
              "8250  SIP works in Flat, Volatile,  Bullish , Bearis...      1\n",
              "8251  I'm in love with contemplating about the press...      1\n",
              "\n",
              "[2062 rows x 2 columns]"
            ]
          },
          "metadata": {},
          "execution_count": 16
        }
      ]
    },
    {
      "cell_type": "code",
      "metadata": {
        "id": "8fVl2Hwu0VCV"
      },
      "source": [
        ""
      ],
      "execution_count": null,
      "outputs": []
    },
    {
      "cell_type": "code",
      "metadata": {
        "colab": {
          "base_uri": "https://localhost:8080/",
          "height": 470
        },
        "id": "GdtDG4BLr4Hc",
        "outputId": "ab4dc0a5-8d3e-4c27-fd5c-9989c435be43"
      },
      "source": [
        "print(dataTest['label'].value_counts())\n",
        "\n",
        "dataTest"
      ],
      "execution_count": null,
      "outputs": [
        {
          "output_type": "stream",
          "name": "stdout",
          "text": [
            "0    1607\n",
            "1     455\n",
            "Name: label, dtype: int64\n"
          ]
        },
        {
          "output_type": "execute_result",
          "data": {
            "text/html": [
              "<div>\n",
              "<style scoped>\n",
              "    .dataframe tbody tr th:only-of-type {\n",
              "        vertical-align: middle;\n",
              "    }\n",
              "\n",
              "    .dataframe tbody tr th {\n",
              "        vertical-align: top;\n",
              "    }\n",
              "\n",
              "    .dataframe thead th {\n",
              "        text-align: right;\n",
              "    }\n",
              "</style>\n",
              "<table border=\"1\" class=\"dataframe\">\n",
              "  <thead>\n",
              "    <tr style=\"text-align: right;\">\n",
              "      <th></th>\n",
              "      <th>message</th>\n",
              "      <th>label</th>\n",
              "    </tr>\n",
              "  </thead>\n",
              "  <tbody>\n",
              "    <tr>\n",
              "      <th>8252</th>\n",
              "      <td>hey tweets!  ?</td>\n",
              "      <td>0</td>\n",
              "    </tr>\n",
              "    <tr>\n",
              "      <th>8253</th>\n",
              "      <td>Clever scientists! 3-D human 'mini-brains' she...</td>\n",
              "      <td>1</td>\n",
              "    </tr>\n",
              "    <tr>\n",
              "      <th>8254</th>\n",
              "      <td>It's a rainy NYC day.. wish I were home in my ...</td>\n",
              "      <td>0</td>\n",
              "    </tr>\n",
              "    <tr>\n",
              "      <th>8255</th>\n",
              "      <td>I just got hit with what literally feels a sol...</td>\n",
              "      <td>1</td>\n",
              "    </tr>\n",
              "    <tr>\n",
              "      <th>8256</th>\n",
              "      <td>i dont know if you guys know this  but... i LO...</td>\n",
              "      <td>0</td>\n",
              "    </tr>\n",
              "    <tr>\n",
              "      <th>...</th>\n",
              "      <td>...</td>\n",
              "      <td>...</td>\n",
              "    </tr>\n",
              "    <tr>\n",
              "      <th>10309</th>\n",
              "      <td>@undagroundmilli That's pretty cool!</td>\n",
              "      <td>0</td>\n",
              "    </tr>\n",
              "    <tr>\n",
              "      <th>10310</th>\n",
              "      <td>@JoyAndLife Thank you so much for #ff and have...</td>\n",
              "      <td>0</td>\n",
              "    </tr>\n",
              "    <tr>\n",
              "      <th>10311</th>\n",
              "      <td>you become a habbit, the more I consume the mo...</td>\n",
              "      <td>0</td>\n",
              "    </tr>\n",
              "    <tr>\n",
              "      <th>10312</th>\n",
              "      <td>@pg99 you get bored of that party yet?</td>\n",
              "      <td>0</td>\n",
              "    </tr>\n",
              "    <tr>\n",
              "      <th>10313</th>\n",
              "      <td>Always a fun time with the ILYC'ers! I love em...</td>\n",
              "      <td>0</td>\n",
              "    </tr>\n",
              "  </tbody>\n",
              "</table>\n",
              "<p>2062 rows × 2 columns</p>\n",
              "</div>"
            ],
            "text/plain": [
              "                                                 message  label\n",
              "8252                                      hey tweets!  ?      0\n",
              "8253   Clever scientists! 3-D human 'mini-brains' she...      1\n",
              "8254   It's a rainy NYC day.. wish I were home in my ...      0\n",
              "8255   I just got hit with what literally feels a sol...      1\n",
              "8256   i dont know if you guys know this  but... i LO...      0\n",
              "...                                                  ...    ...\n",
              "10309              @undagroundmilli That's pretty cool!       0\n",
              "10310  @JoyAndLife Thank you so much for #ff and have...      0\n",
              "10311  you become a habbit, the more I consume the mo...      0\n",
              "10312            @pg99 you get bored of that party yet?       0\n",
              "10313  Always a fun time with the ILYC'ers! I love em...      0\n",
              "\n",
              "[2062 rows x 2 columns]"
            ]
          },
          "metadata": {},
          "execution_count": 18
        }
      ]
    },
    {
      "cell_type": "code",
      "metadata": {
        "id": "q9B1E-0HMG6C"
      },
      "source": [
        "trainX = np.array(dataTrain.iloc[:, 0])\n",
        "trainY = np.array(dataTrain.iloc[:, 1])\n",
        "\n",
        "valX = np.array(dataVal.iloc[:, 0])\n",
        "valY = np.array(dataVal.iloc[:, 1])\n",
        "\n",
        "testX = np.array(dataTest.iloc[:, 0])\n",
        "testY = np.array(dataTest.iloc[:, 1])\n",
        "\n",
        "# # To check the outcome\n",
        "# print(trainX)\n",
        "# print(trainY)\n",
        "# print(valX)\n",
        "# print(valY)\n",
        "# print(testX)\n",
        "# print(testY)\n",
        "\n",
        "# print(trainX.shape)\n",
        "# print(trainY.shape)\n",
        "# print(valX.shape)\n",
        "# print(valY.shape)\n",
        "# print(testX.shape)\n",
        "# print(testY.shape)"
      ],
      "execution_count": null,
      "outputs": []
    },
    {
      "cell_type": "code",
      "metadata": {
        "id": "Oqe-uYGSwRwS"
      },
      "source": [
        "top_k = 50000\n",
        "tokenizer = tf.keras.preprocessing.text.Tokenizer(num_words = top_k,\n",
        "                                                  oov_token = \"<unk>\",\n",
        "                                                  filters = '!\"#$%&()*+.,-/:;=?@[\\]^_`{|}~')\n",
        "tokenizer.fit_on_texts(trainX)\n",
        "\n",
        "tokenizer.word_index['<pad>'] = 0\n",
        "tokenizer.index_word[0] = '<pad>'\n",
        "\n",
        "train_seqs = tokenizer.texts_to_sequences(trainX)\n",
        "val_seqs = tokenizer.texts_to_sequences(valX)\n",
        "test_seqs = tokenizer.texts_to_sequences(testX)\n",
        "\n",
        "train_seqs = tf.keras.preprocessing.sequence.pad_sequences(train_seqs, padding = 'pre')\n",
        "val_seqs = tf.keras.preprocessing.sequence.pad_sequences(val_seqs, padding = 'pre')\n",
        "test_seqs = tf.keras.preprocessing.sequence.pad_sequences(test_seqs, padding = 'pre')"
      ],
      "execution_count": null,
      "outputs": []
    },
    {
      "cell_type": "code",
      "metadata": {
        "colab": {
          "base_uri": "https://localhost:8080/",
          "height": 1000
        },
        "id": "p1alVk9SFqnX",
        "outputId": "1fb43e94-7fa0-4dfc-b4ef-f50c4e7a8663"
      },
      "source": [
        "model = Sequential()\n",
        "model.add(layers.Embedding(len(tokenizer.word_index), 128))\n",
        "model.add(layers.Bidirectional(layers.LSTM(256, return_sequences = True, dropout = 0.2)))\n",
        "model.add(layers.Bidirectional(layers.LSTM(512, return_sequences = True, dropout = 0.2)))\n",
        "model.add(layers.Bidirectional(layers.LSTM(64, return_sequences = True, dropout = 0.2)))\n",
        "model.add(layers.Bidirectional(layers.LSTM(8, dropout = 0.2)))\n",
        "model.add(layers.Dense(1, activation = 'sigmoid'))\n",
        "\n",
        "model.compile(loss = 'binary_crossentropy', optimizer = 'adam', metrics = ['accuracy'])\n",
        "\n",
        "model.summary()\n",
        "plot_model(model, to_file = 'model_plot.png', show_shapes = True, show_layer_names = True)"
      ],
      "execution_count": null,
      "outputs": [
        {
          "output_type": "stream",
          "name": "stdout",
          "text": [
            "Model: \"sequential\"\n",
            "_________________________________________________________________\n",
            "Layer (type)                 Output Shape              Param #   \n",
            "=================================================================\n",
            "embedding (Embedding)        (None, None, 128)         2069376   \n",
            "_________________________________________________________________\n",
            "bidirectional (Bidirectional (None, None, 512)         788480    \n",
            "_________________________________________________________________\n",
            "bidirectional_1 (Bidirection (None, None, 1024)        4198400   \n",
            "_________________________________________________________________\n",
            "bidirectional_2 (Bidirection (None, None, 128)         557568    \n",
            "_________________________________________________________________\n",
            "bidirectional_3 (Bidirection (None, 16)                8768      \n",
            "_________________________________________________________________\n",
            "dense (Dense)                (None, 1)                 17        \n",
            "=================================================================\n",
            "Total params: 7,622,609\n",
            "Trainable params: 7,622,609\n",
            "Non-trainable params: 0\n",
            "_________________________________________________________________\n"
          ]
        },
        {
          "output_type": "execute_result",
          "data": {
            "image/png": "[encoded data removed]",
            "text/plain": [
              "<IPython.core.display.Image object>"
            ]
          },
          "metadata": {},
          "execution_count": 21
        }
      ]
    },
    {
      "cell_type": "code",
      "metadata": {
        "colab": {
          "base_uri": "https://localhost:8080/",
          "height": 1000
        },
        "id": "gDJ3y2IXKMXi",
        "outputId": "5f234c5e-47fc-400f-9852-6ccbb1e45c79"
      },
      "source": [
        "history = model.fit(train_seqs, trainY, epochs = EPOCH, validation_data = (val_seqs, valY), verbose = 1)\n",
        "\n",
        "def plot_graphs(history, string):\n",
        "  plt.plot(history.history[string])\n",
        "  plt.plot(history.history['val_'+string])\n",
        "  plt.xlabel(\"Epochs\")\n",
        "  plt.ylabel(string)\n",
        "  plt.legend([string, 'val_'+string])\n",
        "  plt.show()\n",
        "\n",
        "plot_graphs(history, 'accuracy')\n",
        "plot_graphs(history, 'loss')\n",
        "\n",
        "print('\\nEpoch No.  Train Accuracy  Train Loss     Val Accuracy    Val Loss')\n",
        "for i in range(EPOCH):\n",
        "  print('{:8d} {:10f} \\t {:10f} \\t {:10f} \\t {:10f}'.format(i + 1, history.history['accuracy'][i], history.history['loss'][i], history.history['val_accuracy'][i], history.history['val_loss'][i]))"
      ],
      "execution_count": null,
      "outputs": [
        {
          "output_type": "stream",
          "name": "stdout",
          "text": [
            "Epoch 1/10\n",
            "194/194 [==============================] - 967s 5s/step - loss: 0.1971 - accuracy: 0.9365 - val_loss: 0.0259 - val_accuracy: 0.9961\n",
            "Epoch 2/10\n",
            "194/194 [==============================] - 972s 5s/step - loss: 0.0305 - accuracy: 0.9948 - val_loss: 0.0308 - val_accuracy: 0.9942\n",
            "Epoch 3/10\n",
            "194/194 [==============================] - 942s 5s/step - loss: 0.0213 - accuracy: 0.9963 - val_loss: 0.0282 - val_accuracy: 0.9956\n",
            "Epoch 4/10\n",
            "194/194 [==============================] - 957s 5s/step - loss: 0.0205 - accuracy: 0.9966 - val_loss: 0.0270 - val_accuracy: 0.9961\n",
            "Epoch 5/10\n",
            "194/194 [==============================] - 942s 5s/step - loss: 0.0114 - accuracy: 0.9985 - val_loss: 0.0276 - val_accuracy: 0.9956\n",
            "Epoch 6/10\n",
            "194/194 [==============================] - 964s 5s/step - loss: 0.0382 - accuracy: 0.9908 - val_loss: 0.0331 - val_accuracy: 0.9956\n",
            "Epoch 7/10\n",
            "194/194 [==============================] - 958s 5s/step - loss: 0.0209 - accuracy: 0.9950 - val_loss: 0.0234 - val_accuracy: 0.9966\n",
            "Epoch 8/10\n",
            "194/194 [==============================] - 940s 5s/step - loss: 0.0097 - accuracy: 0.9974 - val_loss: 0.0734 - val_accuracy: 0.9656\n",
            "Epoch 9/10\n",
            "194/194 [==============================] - 955s 5s/step - loss: 0.0129 - accuracy: 0.9969 - val_loss: 0.0270 - val_accuracy: 0.9966\n",
            "Epoch 10/10\n",
            "194/194 [==============================] - 958s 5s/step - loss: 0.0090 - accuracy: 0.9987 - val_loss: 0.0262 - val_accuracy: 0.9971\n"
          ]
        },
        {
          "output_type": "display_data",
          "data": {
            "image/png": "[encoded data removed]",
            "text/plain": [
              "<Figure size 432x288 with 1 Axes>"
            ]
          },
          "metadata": {
            "needs_background": "light"
          }
        },
        {
          "output_type": "display_data",
          "data": {
            "image/png": "[encoded data removed]",
            "text/plain": [
              "<Figure size 432x288 with 1 Axes>"
            ]
          },
          "metadata": {
            "needs_background": "light"
          }
        },
        {
          "output_type": "stream",
          "name": "stdout",
          "text": [
            "\n",
            "Epoch No.  Train Accuracy  Train Loss     Val Accuracy    Val Loss\n",
            "       1   0.936511 \t   0.197075 \t   0.996120 \t   0.025899\n",
            "       2   0.994830 \t   0.030480 \t   0.994180 \t   0.030801\n",
            "       3   0.996284 \t   0.021302 \t   0.995635 \t   0.028169\n",
            "       4   0.996607 \t   0.020515 \t   0.996120 \t   0.026951\n",
            "       5   0.998546 \t   0.011405 \t   0.995635 \t   0.027609\n",
            "       6   0.990792 \t   0.038206 \t   0.995635 \t   0.033123\n",
            "       7   0.994992 \t   0.020900 \t   0.996605 \t   0.023354\n",
            "       8   0.997415 \t   0.009698 \t   0.965567 \t   0.073421\n",
            "       9   0.996931 \t   0.012909 \t   0.996605 \t   0.026983\n",
            "      10   0.998708 \t   0.009048 \t   0.997090 \t   0.026180\n"
          ]
        }
      ]
    },
    {
      "cell_type": "code",
      "metadata": {
        "colab": {
          "base_uri": "https://localhost:8080/",
          "height": 401
        },
        "id": "IlTlpLrtgfMt",
        "outputId": "f030ea1f-60d9-42ce-fd90-5d8e7e9504a9"
      },
      "source": [
        "y_pred = model.predict(train_seqs)\n",
        "\n",
        "y_pred = np.where(y_pred > 0.5, 1, 0)\n",
        "y_pred = np.reshape(y_pred, (y_pred.shape[0]))\n",
        "\n",
        "loss, accuracy = model.evaluate(train_seqs, trainY, verbose = 1)\n",
        "print('Train Loss:', loss)\n",
        "print('Train Accuracy:', accuracy, '(Model Metric)')\n",
        "print('Train Accuracy:', accuracy_score(trainY, y_pred), '(sklearn Metric)')\n",
        "print('Train Precision:', precision_score(trainY, y_pred))\n",
        "print('Train Recall:', recall_score(trainY, y_pred))\n",
        "print('Train F1-score:', f1_score(trainY, y_pred))\n",
        "\n",
        "sns.heatmap(confusion_matrix(trainY, y_pred), annot = True, fmt = 'g')"
      ],
      "execution_count": null,
      "outputs": [
        {
          "output_type": "stream",
          "name": "stdout",
          "text": [
            "194/194 [==============================] - 168s 853ms/step - loss: 0.0085 - accuracy: 0.9989\n",
            "Train Loss: 0.008488488383591175\n",
            "Train Accuracy: 0.9988691210746765 (Model Metric)\n",
            "Train Accuracy: 0.9988691437802908 (sklearn Metric)\n",
            "Train Precision: 1.0\n",
            "Train Recall: 0.9950319375443577\n",
            "Train F1-score: 0.9975097829953753\n"
          ]
        },
        {
          "output_type": "execute_result",
          "data": {
            "text/plain": [
              "<matplotlib.axes._subplots.AxesSubplot at 0x7f106ac94cd0>"
            ]
          },
          "metadata": {},
          "execution_count": 23
        },
        {
          "output_type": "display_data",
          "data": {
            "image/png": "[encoded data removed]",
            "text/plain": [
              "<Figure size 432x288 with 2 Axes>"
            ]
          },
          "metadata": {
            "needs_background": "light"
          }
        }
      ]
    },
    {
      "cell_type": "code",
      "metadata": {
        "colab": {
          "base_uri": "https://localhost:8080/",
          "height": 404
        },
        "id": "_D7KdFvHhHOS",
        "outputId": "322174ac-6dca-43cb-d0bc-8799a163c41b"
      },
      "source": [
        "y_pred = model.predict(val_seqs)\n",
        "\n",
        "y_pred = np.where(y_pred > 0.5, 1, 0)\n",
        "y_pred = np.reshape(y_pred, (y_pred.shape[0]))\n",
        "\n",
        "loss, accuracy = model.evaluate(val_seqs, valY, verbose = 1)\n",
        "print('Validation Loss:', loss)\n",
        "print('Validation Accuracy:', accuracy, '(Model Metric)')\n",
        "print('Validation Accuracy:', accuracy_score(valY, y_pred), '(sklearn Metric)')\n",
        "print('Validation Precision:', precision_score(valY, y_pred))\n",
        "print('Validation Recall:', recall_score(valY, y_pred))\n",
        "print('Validation F1-score:', f1_score(valY, y_pred))\n",
        "\n",
        "sns.heatmap(confusion_matrix(valY, y_pred), annot = True, fmt = 'g')"
      ],
      "execution_count": null,
      "outputs": [
        {
          "output_type": "stream",
          "name": "stdout",
          "text": [
            "65/65 [==============================] - 43s 657ms/step - loss: 0.0262 - accuracy: 0.9971\n",
            "Validation Loss: 0.02618040144443512\n",
            "Validation Accuracy: 0.997090220451355 (Model Metric)\n",
            "Validation Accuracy: 0.997090203685742 (sklearn Metric)\n",
            "Validation Precision: 1.0\n",
            "Validation Recall: 0.9866666666666667\n",
            "Validation F1-score: 0.9932885906040269\n"
          ]
        },
        {
          "output_type": "execute_result",
          "data": {
            "text/plain": [
              "<matplotlib.axes._subplots.AxesSubplot at 0x7f106835be90>"
            ]
          },
          "metadata": {},
          "execution_count": 24
        },
        {
          "output_type": "display_data",
          "data": {
            "image/png": "[encoded data removed]",
            "text/plain": [
              "<Figure size 432x288 with 2 Axes>"
            ]
          },
          "metadata": {
            "needs_background": "light"
          }
        }
      ]
    },
    {
      "cell_type": "code",
      "metadata": {
        "colab": {
          "base_uri": "https://localhost:8080/",
          "height": 405
        },
        "id": "SWt3knXRMnJ6",
        "outputId": "ca22705f-73b5-43ce-cb9a-0e570ead5fd1"
      },
      "source": [
        "y_pred = model.predict(test_seqs)\n",
        "\n",
        "y_pred = np.where(y_pred > 0.5, 1, 0)\n",
        "y_pred = np.reshape(y_pred, (y_pred.shape[0]))\n",
        "\n",
        "loss, accuracy = model.evaluate(test_seqs, testY, verbose = 1)\n",
        "print('Test Loss:', loss)\n",
        "print('Test Accuracy:', accuracy, '(Model Metric)')\n",
        "print('Test Accuracy:', accuracy_score(testY, y_pred), '(sklearn Metric)')\n",
        "print('Test Precision:', precision_score(testY, y_pred))\n",
        "print('Test Recall:', recall_score(testY, y_pred))\n",
        "print('Test F1-score:', f1_score(testY, y_pred))\n",
        "\n",
        "sns.heatmap(confusion_matrix(testY, y_pred), annot = True, fmt = 'g')"
      ],
      "execution_count": null,
      "outputs": [
        {
          "output_type": "stream",
          "name": "stdout",
          "text": [
            "65/65 [==============================] - 52s 764ms/step - loss: 0.0331 - accuracy: 0.9956\n",
            "Test Loss: 0.03308849036693573\n",
            "Test Accuracy: 0.9956353306770325 (Model Metric)\n",
            "Test Accuracy: 0.995635305528613 (sklearn Metric)\n",
            "Test Precision: 0.9977678571428571\n",
            "Test Recall: 0.9824175824175824\n",
            "Test F1-score: 0.9900332225913622\n"
          ]
        },
        {
          "output_type": "execute_result",
          "data": {
            "text/plain": [
              "<matplotlib.axes._subplots.AxesSubplot at 0x7f106ace3790>"
            ]
          },
          "metadata": {},
          "execution_count": 25
        },
        {
          "output_type": "display_data",
          "data": {
            "image/png": "[encoded data removed]",
            "text/plain": [
              "<Figure size 432x288 with 2 Axes>"
            ]
          },
          "metadata": {
            "needs_background": "light"
          }
        }
      ]
    }
  ]
}